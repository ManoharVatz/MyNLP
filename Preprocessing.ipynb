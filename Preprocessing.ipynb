{
  "nbformat": 4,
  "nbformat_minor": 0,
  "metadata": {
    "colab": {
      "name": "Preprocessing.ipynb",
      "version": "0.3.2",
      "provenance": [],
      "collapsed_sections": []
    },
    "kernelspec": {
      "name": "python3",
      "display_name": "Python 3"
    }
  },
  "cells": [
    {
      "metadata": {
        "id": "og3JyiUmqbgN",
        "colab_type": "code",
        "colab": {}
      },
      "cell_type": "code",
      "source": [
        "# https://nicschrading.com/project/Intro-to-NLP-with-spaCy/\n",
        "# https://www.skcript.com/svr/how-to-easily-extract-text-from-anything-using-spacy/"
      ],
      "execution_count": 0,
      "outputs": []
    },
    {
      "metadata": {
        "id": "LOP5OmilYNFw",
        "colab_type": "code",
        "colab": {}
      },
      "cell_type": "code",
      "source": [
        "import spacy"
      ],
      "execution_count": 0,
      "outputs": []
    },
    {
      "metadata": {
        "id": "N-o2J0y_0llb",
        "colab_type": "code",
        "colab": {
          "base_uri": "https://localhost:8080/",
          "height": 121
        },
        "outputId": "a633f105-938e-42cb-8a2a-45998d2d0d1f"
      },
      "cell_type": "code",
      "source": [
        "from google.colab import drive\n",
        "drive.mount('/content/drive')"
      ],
      "execution_count": 5,
      "outputs": [
        {
          "output_type": "stream",
          "text": [
            "Go to this URL in a browser: https://accounts.google.com/o/oauth2/auth?client_id=947318989803-6bn6qk8qdgf4n4g3pfee6491hc0brc4i.apps.googleusercontent.com&redirect_uri=urn%3Aietf%3Awg%3Aoauth%3A2.0%3Aoob&scope=email%20https%3A%2F%2Fwww.googleapis.com%2Fauth%2Fdocs.test%20https%3A%2F%2Fwww.googleapis.com%2Fauth%2Fdrive%20https%3A%2F%2Fwww.googleapis.com%2Fauth%2Fdrive.photos.readonly%20https%3A%2F%2Fwww.googleapis.com%2Fauth%2Fpeopleapi.readonly&response_type=code\n",
            "\n",
            "Enter your authorization code:\n",
            "··········\n",
            "Mounted at /content/drive\n"
          ],
          "name": "stdout"
        }
      ]
    },
    {
      "metadata": {
        "id": "GWx5wkmVXI--",
        "colab_type": "code",
        "colab": {}
      },
      "cell_type": "code",
      "source": [
        "drive.mount('/content/drive')"
      ],
      "execution_count": 0,
      "outputs": []
    },
    {
      "metadata": {
        "id": "pOMJ6MlXHbGu",
        "colab_type": "code",
        "colab": {}
      },
      "cell_type": "code",
      "source": [
        "myFile = open(\"/content/drive/My Drive/Colab Notebooks/My Claim Detection/PE/Training/essay001.txt\").read()"
      ],
      "execution_count": 0,
      "outputs": []
    },
    {
      "metadata": {
        "id": "uf3U4QJMHn4D",
        "colab_type": "code",
        "colab": {}
      },
      "cell_type": "code",
      "source": [
        "nlp = spacy.load(\"en\")\n",
        "esy_1 = nlp(myFile)"
      ],
      "execution_count": 0,
      "outputs": []
    },
    {
      "metadata": {
        "id": "KjD4sggBJUO4",
        "colab_type": "text"
      },
      "cell_type": "markdown",
      "source": [
        "**Sentence Segmentation of Essay1\n",
        "**\n"
      ]
    },
    {
      "metadata": {
        "id": "19XlAC0aINGD",
        "colab_type": "code",
        "colab": {
          "base_uri": "https://localhost:8080/",
          "height": 406
        },
        "outputId": "20bcb5a8-8039-432f-bb59-3ebbd37854b7"
      },
      "cell_type": "code",
      "source": [
        "#print(esy_1)\n",
        "\n",
        "for num,sentence in enumerate(esy_1.sents):\n",
        "    print(f\" {num}: {sentence}\")"
      ],
      "execution_count": 16,
      "outputs": [
        {
          "output_type": "stream",
          "text": [
            " 0: Should students be taught to compete or to cooperate?\n",
            "\n",
            "\n",
            " 1: It is always said that competition can effectively promote the development of economy.\n",
            " 2: In order to survive in the competition, companies continue to improve their products and service, and as a result, the whole society prospers.\n",
            " 3: However, when we discuss the issue of competition or cooperation, what we are concerned about is not the whole society, but the development of an individual's whole life.\n",
            " 4: From this point of view, I firmly believe that we should attach more importance to cooperation during primary education.\n",
            "\n",
            " 5: First of all, through cooperation, children can learn about interpersonal skills which are significant in the future life of all students.\n",
            " 6: What we acquired from team work is not only how to achieve the same goal with others but more importantly, how to get along with others.\n",
            " 7: During the process of cooperation, children can learn about how to listen to opinions of others, how to communicate with others, how to think comprehensively, and even how to compromise with other team members when conflicts occurred.\n",
            " 8: All of these skills help them to get on well with other people and will benefit them for the whole life.\n",
            "\n",
            " 9: On the other hand, the significance of competition is that how to become more excellence to gain the victory.\n",
            " 10: Hence it is always said that competition makes the society more effective.\n",
            " 11: However, when we consider about the question that how to win the game, we always find that we need the cooperation.\n",
            " 12: The greater our goal is, the more competition we need.\n",
            " 13: Take Olympic games which is a form of competition for instance, it is hard to imagine how an athlete could win the game without the training of his or her coach, and the help of other professional staffs such as the people who take care of his diet, and those who are in charge of the medical care.\n",
            " 14: The winner is the athlete but the success belongs to the whole team.\n",
            " 15: Therefore without the cooperation, there would be no victory of competition.\n",
            "\n",
            " 16: Consequently, no matter from the view of individual development or the relationship between competition and cooperation we can receive the same conclusion that a more cooperative attitudes towards life is more profitable in one's success.\n"
          ],
          "name": "stdout"
        }
      ]
    },
    {
      "metadata": {
        "id": "7bZWAJWYJ1Mu",
        "colab_type": "code",
        "colab": {
          "base_uri": "https://localhost:8080/",
          "height": 7190
        },
        "outputId": "ba74954e-09bc-4c19-da75-b5d818e9247e"
      },
      "cell_type": "code",
      "source": [
        "# Word Tokens\n",
        "\n",
        "for token in esy_1:\n",
        "    print(token.text)\n",
        "   "
      ],
      "execution_count": 18,
      "outputs": [
        {
          "output_type": "stream",
          "text": [
            "Should\n",
            "students\n",
            "be\n",
            "taught\n",
            "to\n",
            "compete\n",
            "or\n",
            "to\n",
            "cooperate\n",
            "?\n",
            "\n",
            "\n",
            "\n",
            "It\n",
            "is\n",
            "always\n",
            "said\n",
            "that\n",
            "competition\n",
            "can\n",
            "effectively\n",
            "promote\n",
            "the\n",
            "development\n",
            "of\n",
            "economy\n",
            ".\n",
            "In\n",
            "order\n",
            "to\n",
            "survive\n",
            "in\n",
            "the\n",
            "competition\n",
            ",\n",
            "companies\n",
            "continue\n",
            "to\n",
            "improve\n",
            "their\n",
            "products\n",
            "and\n",
            "service\n",
            ",\n",
            "and\n",
            "as\n",
            "a\n",
            "result\n",
            ",\n",
            "the\n",
            "whole\n",
            "society\n",
            "prospers\n",
            ".\n",
            "However\n",
            ",\n",
            "when\n",
            "we\n",
            "discuss\n",
            "the\n",
            "issue\n",
            "of\n",
            "competition\n",
            "or\n",
            "cooperation\n",
            ",\n",
            "what\n",
            "we\n",
            "are\n",
            "concerned\n",
            "about\n",
            "is\n",
            "not\n",
            "the\n",
            "whole\n",
            "society\n",
            ",\n",
            "but\n",
            "the\n",
            "development\n",
            "of\n",
            "an\n",
            "individual\n",
            "'s\n",
            "whole\n",
            "life\n",
            ".\n",
            "From\n",
            "this\n",
            "point\n",
            "of\n",
            "view\n",
            ",\n",
            "I\n",
            "firmly\n",
            "believe\n",
            "that\n",
            "we\n",
            "should\n",
            "attach\n",
            "more\n",
            "importance\n",
            "to\n",
            "cooperation\n",
            "during\n",
            "primary\n",
            "education\n",
            ".\n",
            "\n",
            "\n",
            "First\n",
            "of\n",
            "all\n",
            ",\n",
            "through\n",
            "cooperation\n",
            ",\n",
            "children\n",
            "can\n",
            "learn\n",
            "about\n",
            "interpersonal\n",
            "skills\n",
            "which\n",
            "are\n",
            "significant\n",
            "in\n",
            "the\n",
            "future\n",
            "life\n",
            "of\n",
            "all\n",
            "students\n",
            ".\n",
            "What\n",
            "we\n",
            "acquired\n",
            "from\n",
            "team\n",
            "work\n",
            "is\n",
            "not\n",
            "only\n",
            "how\n",
            "to\n",
            "achieve\n",
            "the\n",
            "same\n",
            "goal\n",
            "with\n",
            "others\n",
            "but\n",
            "more\n",
            "importantly\n",
            ",\n",
            "how\n",
            "to\n",
            "get\n",
            "along\n",
            "with\n",
            "others\n",
            ".\n",
            "During\n",
            "the\n",
            "process\n",
            "of\n",
            "cooperation\n",
            ",\n",
            "children\n",
            "can\n",
            "learn\n",
            "about\n",
            "how\n",
            "to\n",
            "listen\n",
            "to\n",
            "opinions\n",
            "of\n",
            "others\n",
            ",\n",
            "how\n",
            "to\n",
            "communicate\n",
            "with\n",
            "others\n",
            ",\n",
            "how\n",
            "to\n",
            "think\n",
            "comprehensively\n",
            ",\n",
            "and\n",
            "even\n",
            "how\n",
            "to\n",
            "compromise\n",
            "with\n",
            "other\n",
            "team\n",
            "members\n",
            "when\n",
            "conflicts\n",
            "occurred\n",
            ".\n",
            "All\n",
            "of\n",
            "these\n",
            "skills\n",
            "help\n",
            "them\n",
            "to\n",
            "get\n",
            "on\n",
            "well\n",
            "with\n",
            "other\n",
            "people\n",
            "and\n",
            "will\n",
            "benefit\n",
            "them\n",
            "for\n",
            "the\n",
            "whole\n",
            "life\n",
            ".\n",
            "\n",
            "\n",
            "On\n",
            "the\n",
            "other\n",
            "hand\n",
            ",\n",
            "the\n",
            "significance\n",
            "of\n",
            "competition\n",
            "is\n",
            "that\n",
            "how\n",
            "to\n",
            "become\n",
            "more\n",
            "excellence\n",
            "to\n",
            "gain\n",
            "the\n",
            "victory\n",
            ".\n",
            "Hence\n",
            "it\n",
            "is\n",
            "always\n",
            "said\n",
            "that\n",
            "competition\n",
            "makes\n",
            "the\n",
            "society\n",
            "more\n",
            "effective\n",
            ".\n",
            "However\n",
            ",\n",
            "when\n",
            "we\n",
            "consider\n",
            "about\n",
            "the\n",
            "question\n",
            "that\n",
            "how\n",
            "to\n",
            "win\n",
            "the\n",
            "game\n",
            ",\n",
            "we\n",
            "always\n",
            "find\n",
            "that\n",
            "we\n",
            "need\n",
            "the\n",
            "cooperation\n",
            ".\n",
            "The\n",
            "greater\n",
            "our\n",
            "goal\n",
            "is\n",
            ",\n",
            "the\n",
            "more\n",
            "competition\n",
            "we\n",
            "need\n",
            ".\n",
            "Take\n",
            "Olympic\n",
            "games\n",
            "which\n",
            "is\n",
            "a\n",
            "form\n",
            "of\n",
            "competition\n",
            "for\n",
            "instance\n",
            ",\n",
            "it\n",
            "is\n",
            "hard\n",
            "to\n",
            "imagine\n",
            "how\n",
            "an\n",
            "athlete\n",
            "could\n",
            "win\n",
            "the\n",
            "game\n",
            "without\n",
            "the\n",
            "training\n",
            "of\n",
            "his\n",
            "or\n",
            "her\n",
            "coach\n",
            ",\n",
            "and\n",
            "the\n",
            "help\n",
            "of\n",
            "other\n",
            "professional\n",
            "staffs\n",
            "such\n",
            "as\n",
            "the\n",
            "people\n",
            "who\n",
            "take\n",
            "care\n",
            "of\n",
            "his\n",
            "diet\n",
            ",\n",
            "and\n",
            "those\n",
            "who\n",
            "are\n",
            "in\n",
            "charge\n",
            "of\n",
            "the\n",
            "medical\n",
            "care\n",
            ".\n",
            "The\n",
            "winner\n",
            "is\n",
            "the\n",
            "athlete\n",
            "but\n",
            "the\n",
            "success\n",
            "belongs\n",
            "to\n",
            "the\n",
            "whole\n",
            "team\n",
            ".\n",
            "Therefore\n",
            "without\n",
            "the\n",
            "cooperation\n",
            ",\n",
            "there\n",
            "would\n",
            "be\n",
            "no\n",
            "victory\n",
            "of\n",
            "competition\n",
            ".\n",
            "\n",
            "\n",
            "Consequently\n",
            ",\n",
            "no\n",
            "matter\n",
            "from\n",
            "the\n",
            "view\n",
            "of\n",
            "individual\n",
            "development\n",
            "or\n",
            "the\n",
            "relationship\n",
            "between\n",
            "competition\n",
            "and\n",
            "cooperation\n",
            "we\n",
            "can\n",
            "receive\n",
            "the\n",
            "same\n",
            "conclusion\n",
            "that\n",
            "a\n",
            "more\n",
            "cooperative\n",
            "attitudes\n",
            "towards\n",
            "life\n",
            "is\n",
            "more\n",
            "profitable\n",
            "in\n",
            "one\n",
            "'s\n",
            "success\n",
            ".\n"
          ],
          "name": "stdout"
        }
      ]
    },
    {
      "metadata": {
        "id": "749r7s8CKRc4",
        "colab_type": "code",
        "colab": {
          "base_uri": "https://localhost:8080/",
          "height": 54
        },
        "outputId": "fc98eabc-6f75-4dd0-a1ee-4524f70e32dd"
      },
      "cell_type": "code",
      "source": [
        "# list of tokens from the Essay1\n",
        "\n",
        "word_tokens = [token.text for token in esy_1]\n",
        "\n",
        "print(word_tokens)    # unique tokens only"
      ],
      "execution_count": 155,
      "outputs": [
        {
          "output_type": "stream",
          "text": [
            "['Should', 'students', 'be', 'taught', 'to', 'compete', 'or', 'to', 'cooperate', '?', '\\n\\n', 'It', 'is', 'always', 'said', 'that', 'competition', 'can', 'effectively', 'promote', 'the', 'development', 'of', 'economy', '.', 'In', 'order', 'to', 'survive', 'in', 'the', 'competition', ',', 'companies', 'continue', 'to', 'improve', 'their', 'products', 'and', 'service', ',', 'and', 'as', 'a', 'result', ',', 'the', 'whole', 'society', 'prospers', '.', 'However', ',', 'when', 'we', 'discuss', 'the', 'issue', 'of', 'competition', 'or', 'cooperation', ',', 'what', 'we', 'are', 'concerned', 'about', 'is', 'not', 'the', 'whole', 'society', ',', 'but', 'the', 'development', 'of', 'an', 'individual', \"'s\", 'whole', 'life', '.', 'From', 'this', 'point', 'of', 'view', ',', 'I', 'firmly', 'believe', 'that', 'we', 'should', 'attach', 'more', 'importance', 'to', 'cooperation', 'during', 'primary', 'education', '.', '\\n', 'First', 'of', 'all', ',', 'through', 'cooperation', ',', 'children', 'can', 'learn', 'about', 'interpersonal', 'skills', 'which', 'are', 'significant', 'in', 'the', 'future', 'life', 'of', 'all', 'students', '.', 'What', 'we', 'acquired', 'from', 'team', 'work', 'is', 'not', 'only', 'how', 'to', 'achieve', 'the', 'same', 'goal', 'with', 'others', 'but', 'more', 'importantly', ',', 'how', 'to', 'get', 'along', 'with', 'others', '.', 'During', 'the', 'process', 'of', 'cooperation', ',', 'children', 'can', 'learn', 'about', 'how', 'to', 'listen', 'to', 'opinions', 'of', 'others', ',', 'how', 'to', 'communicate', 'with', 'others', ',', 'how', 'to', 'think', 'comprehensively', ',', 'and', 'even', 'how', 'to', 'compromise', 'with', 'other', 'team', 'members', 'when', 'conflicts', 'occurred', '.', 'All', 'of', 'these', 'skills', 'help', 'them', 'to', 'get', 'on', 'well', 'with', 'other', 'people', 'and', 'will', 'benefit', 'them', 'for', 'the', 'whole', 'life', '.', '\\n', 'On', 'the', 'other', 'hand', ',', 'the', 'significance', 'of', 'competition', 'is', 'that', 'how', 'to', 'become', 'more', 'excellence', 'to', 'gain', 'the', 'victory', '.', 'Hence', 'it', 'is', 'always', 'said', 'that', 'competition', 'makes', 'the', 'society', 'more', 'effective', '.', 'However', ',', 'when', 'we', 'consider', 'about', 'the', 'question', 'that', 'how', 'to', 'win', 'the', 'game', ',', 'we', 'always', 'find', 'that', 'we', 'need', 'the', 'cooperation', '.', 'The', 'greater', 'our', 'goal', 'is', ',', 'the', 'more', 'competition', 'we', 'need', '.', 'Take', 'Olympic', 'games', 'which', 'is', 'a', 'form', 'of', 'competition', 'for', 'instance', ',', 'it', 'is', 'hard', 'to', 'imagine', 'how', 'an', 'athlete', 'could', 'win', 'the', 'game', 'without', 'the', 'training', 'of', 'his', 'or', 'her', 'coach', ',', 'and', 'the', 'help', 'of', 'other', 'professional', 'staffs', 'such', 'as', 'the', 'people', 'who', 'take', 'care', 'of', 'his', 'diet', ',', 'and', 'those', 'who', 'are', 'in', 'charge', 'of', 'the', 'medical', 'care', '.', 'The', 'winner', 'is', 'the', 'athlete', 'but', 'the', 'success', 'belongs', 'to', 'the', 'whole', 'team', '.', 'Therefore', 'without', 'the', 'cooperation', ',', 'there', 'would', 'be', 'no', 'victory', 'of', 'competition', '.', '\\n', 'Consequently', ',', 'no', 'matter', 'from', 'the', 'view', 'of', 'individual', 'development', 'or', 'the', 'relationship', 'between', 'competition', 'and', 'cooperation', 'we', 'can', 'receive', 'the', 'same', 'conclusion', 'that', 'a', 'more', 'cooperative', 'attitudes', 'towards', 'life', 'is', 'more', 'profitable', 'in', 'one', \"'s\", 'success', '.']\n"
          ],
          "name": "stdout"
        }
      ]
    },
    {
      "metadata": {
        "id": "J44gCrShOW-J",
        "colab_type": "text"
      },
      "cell_type": "markdown",
      "source": [
        "*List all text files in the designated directory*\n",
        "https://stackoverflow.com/questions/35672809/how-to-read-a-list-of-txt-files-in-a-folder-in-python"
      ]
    },
    {
      "metadata": {
        "id": "pllFDXpnN8Dx",
        "colab_type": "code",
        "colab": {}
      },
      "cell_type": "code",
      "source": [
        "# Take the path of each essay inside the folder into the List\n",
        "\n",
        "import glob\n",
        "txt_files = glob.glob(\"/content/drive/My Drive/Colab Notebooks/My Claim Detection/PE/Training/*.txt\")\n",
        "\n",
        "# print(txt_files)\n",
        "\n",
        "file_list =[open(path).read() for path in txt_files]\n",
        "\n",
        "#print(file_list)    \n"
      ],
      "execution_count": 0,
      "outputs": []
    },
    {
      "metadata": {
        "id": "jyjoIhF_zgDA",
        "colab_type": "code",
        "colab": {}
      },
      "cell_type": "code",
      "source": [
        "# do the NLP on each essay inside file_list\n",
        "essay_list= [nlp(a) for a in file_list]"
      ],
      "execution_count": 0,
      "outputs": []
    },
    {
      "metadata": {
        "id": "Ub9skaJc1ks_",
        "colab_type": "code",
        "colab": {
          "base_uri": "https://localhost:8080/",
          "height": 171
        },
        "outputId": "3b1361fe-cdf9-474f-ec98-1fff4ada6365"
      },
      "cell_type": "code",
      "source": [
        "# each essay is present inside the essay_list\n",
        "print(essay_list[0])"
      ],
      "execution_count": 169,
      "outputs": [
        {
          "output_type": "stream",
          "text": [
            "Capital punishment is necessary or not?\n",
            "\n",
            "Capital punishment is a controversial debate in many countries. In a world where brutal crimes need to be deterred, it may be true that the death penalty is an efficient retribution to admonish the violence. However, as the society grows, human rights become more highly respected, \"murdering\" criminals is therefore immoral and hard to accept.\n",
            "First of all, it is recognized that every human being has the right to live and no authority is empowered to deprive one of life. Although what criminals cause to the society, specifically to the victims, is indeed significantly offensive, they are humans and their lives need to be valued. In addition, execution does not resolve the consequences of crime, not to mention it could put the criminal's family through hardship while the pain of the victim's kin is never to be consoled.\n",
            "Secondly, capital punishment is certainly not the only option to control the amount of crimes, life imprisonment is just as effective by detaining the criminals in prison for the rest of their lives. Moreover, in terms of punishment, living a miserable life with restriction to the world outside and sustaining the feeling of guilt every day in a dark bounded room are much more obsessing than being killed right away.\n",
            "The third reason why the death penalty should be banned is the chance that innocent people are wrongly convicted. Juries are also humans, they may lack of discretion. Thus, many people are executed for the crime they did not commit, which leads to a question of fairness in judicial system.\n",
            "In conclusion, although capital punishment presents an extreme warning to the community, I firmly object to it because it is absurd and inhumane. Furthermore, it can be replaced by a life sentence.\n",
            "\n"
          ],
          "name": "stdout"
        }
      ]
    },
    {
      "metadata": {
        "id": "TrN0tqdKHwgt",
        "colab_type": "code",
        "colab": {
          "base_uri": "https://localhost:8080/",
          "height": 70
        },
        "outputId": "e7185d34-ebb2-41f2-a585-080977f77de3"
      },
      "cell_type": "code",
      "source": [
        "# Tokenization of each essay\n",
        "A = [token.text for token in essay_list[0]]\n",
        "B = [token.text for token in essay_list[1]]\n",
        "C = [token.text for token in essay_list[2]]\n",
        "\n",
        "print(A)\n",
        "print(B)\n"
      ],
      "execution_count": 167,
      "outputs": [
        {
          "output_type": "stream",
          "text": [
            "['Capital', 'punishment', 'is', 'necessary', 'or', 'not', '?', '\\n\\n', 'Capital', 'punishment', 'is', 'a', 'controversial', 'debate', 'in', 'many', 'countries', '.', 'In', 'a', 'world', 'where', 'brutal', 'crimes', 'need', 'to', 'be', 'deterred', ',', 'it', 'may', 'be', 'true', 'that', 'the', 'death', 'penalty', 'is', 'an', 'efficient', 'retribution', 'to', 'admonish', 'the', 'violence', '.', 'However', ',', 'as', 'the', 'society', 'grows', ',', 'human', 'rights', 'become', 'more', 'highly', 'respected', ',', '\"', 'murdering', '\"', 'criminals', 'is', 'therefore', 'immoral', 'and', 'hard', 'to', 'accept', '.', '\\n', 'First', 'of', 'all', ',', 'it', 'is', 'recognized', 'that', 'every', 'human', 'being', 'has', 'the', 'right', 'to', 'live', 'and', 'no', 'authority', 'is', 'empowered', 'to', 'deprive', 'one', 'of', 'life', '.', 'Although', 'what', 'criminals', 'cause', 'to', 'the', 'society', ',', 'specifically', 'to', 'the', 'victims', ',', 'is', 'indeed', 'significantly', 'offensive', ',', 'they', 'are', 'humans', 'and', 'their', 'lives', 'need', 'to', 'be', 'valued', '.', 'In', 'addition', ',', 'execution', 'does', 'not', 'resolve', 'the', 'consequences', 'of', 'crime', ',', 'not', 'to', 'mention', 'it', 'could', 'put', 'the', 'criminal', \"'s\", 'family', 'through', 'hardship', 'while', 'the', 'pain', 'of', 'the', 'victim', \"'s\", 'kin', 'is', 'never', 'to', 'be', 'consoled', '.', '\\n', 'Secondly', ',', 'capital', 'punishment', 'is', 'certainly', 'not', 'the', 'only', 'option', 'to', 'control', 'the', 'amount', 'of', 'crimes', ',', 'life', 'imprisonment', 'is', 'just', 'as', 'effective', 'by', 'detaining', 'the', 'criminals', 'in', 'prison', 'for', 'the', 'rest', 'of', 'their', 'lives', '.', 'Moreover', ',', 'in', 'terms', 'of', 'punishment', ',', 'living', 'a', 'miserable', 'life', 'with', 'restriction', 'to', 'the', 'world', 'outside', 'and', 'sustaining', 'the', 'feeling', 'of', 'guilt', 'every', 'day', 'in', 'a', 'dark', 'bounded', 'room', 'are', 'much', 'more', 'obsessing', 'than', 'being', 'killed', 'right', 'away', '.', '\\n', 'The', 'third', 'reason', 'why', 'the', 'death', 'penalty', 'should', 'be', 'banned', 'is', 'the', 'chance', 'that', 'innocent', 'people', 'are', 'wrongly', 'convicted', '.', 'Juries', 'are', 'also', 'humans', ',', 'they', 'may', 'lack', 'of', 'discretion', '.', 'Thus', ',', 'many', 'people', 'are', 'executed', 'for', 'the', 'crime', 'they', 'did', 'not', 'commit', ',', 'which', 'leads', 'to', 'a', 'question', 'of', 'fairness', 'in', 'judicial', 'system', '.', '\\n', 'In', 'conclusion', ',', 'although', 'capital', 'punishment', 'presents', 'an', 'extreme', 'warning', 'to', 'the', 'community', ',', 'I', 'firmly', 'object', 'to', 'it', 'because', 'it', 'is', 'absurd', 'and', 'inhumane', '.', 'Furthermore', ',', 'it', 'can', 'be', 'replaced', 'by', 'a', 'life', 'sentence', '.', '\\n']\n",
            "['Your', 'job', 'has', 'more', 'effect', 'on', 'your', 'happiness', 'than', 'your', 'living', 'environment', 'does', '\\n\\n', 'With', 'the', 'development', 'of', 'the', 'economy', ',', 'people', 'become', 'more', 'and', 'more', 'rich', '.', 'They', 'start', 'to', 'pay', 'attention', 'to', 'mental', 'requirement', 'like', 'happiness', '.', 'While', 'I', 'accept', 'that', 'job', 'can', 'offer', 'happiness', 'to', 'some', 'people', ',', 'I', 'believe', 'that', 'living', 'environment', 'is', 'more', 'important', 'than', 'job', 'for', 'most', 'of', 'us', '.', '\\n', 'Admittedly', ',', 'job', 'can', 'bring', 'us', 'happiness', '.', 'People', 'can', 'receive', 'a', 'sense', 'of', 'values', 'and', 'respected', 'from', 'job', '.', 'If', 'people', 'receive', 'respect', 'from', 'others', ',', 'they', 'will', 'feel', 'achievement', 'and', 'self', '-', 'confidence', '.', 'In', 'addition', ',', 'job', 'can', 'provide', 'money', 'to', 'us', '.', '\\n', 'However', ',', 'people', 'should', 'concern', 'more', 'about', 'their', 'living', 'environment', 'than', 'job', '.', 'First', ',', 'for', 'most', 'of', 'us', ',', 'job', 'is', 'only', 'a', 'tool', 'to', 'maintain', 'our', 'lives', '.', 'Few', 'people', 'can', 'feel', 'happiness', 'from', 'their', 'job', 'because', 'they', 'have', 'to', 'continue', 'to', 'work', 'more', 'than', '30', 'years', '.', 'For', 'example', ',', 'Workers', 'in', 'the', 'FOXCONN', 'factory', ',', 'which', 'is', 'the', 'main', 'manufacture', 'of', 'APPLE', 'Company', ',', 'just', 'repeat', 'one', 'action', 'more', 'than', '8', 'hours', 'every', 'day', '.', 'These', 'labor', 'works', 'can', 'not', 'provide', 'workers', 'with', 'a', 'lot', 'of', 'happiness', 'because', 'they', 'feel', 'tired', 'and', 'frustrated', 'after', 'long', 'hour', 'work', '.', '\\n', 'Second', ',', 'beautiful', 'environment', 'is', 'one', 'of', 'basic', 'physiological', 'needs', ',', 'which', 'are', 'the', 'most', 'fundamental', 'requirements', 'for', 'people', '.', 'Without', 'beautiful', 'environment', ',', 'people', 'are', 'not', 'able', 'to', 'feel', 'happiness', 'and', 'will', 'fell', 'anxiety', '.', 'Nowadays', ',', 'the', 'fast', 'development', 'of', 'economy', 'is', 'gradually', 'destroying', 'our', 'environment', 'very', 'quickly', '.', 'Factories', 'released', 'a', 'huge', 'amount', 'of', 'wasters', 'into', 'river', 'and', 'soil', '.', 'In', 'order', 'to', 'build', 'city', 'and', 'factory', ',', 'people', 'destroy', 'huge', 'forests', '.', 'In', 'China', ',', 'some', 'residents', 'who', 'live', 'in', 'nearby', 'some', 'toxic', 'factories', 'became', 'sick', 'because', 'these', 'factories', 'release', 'a', 'lot', 'of', 'toxic', 'water', 'and', 'wasters', 'into', 'environment', 'around', 'people', '.', 'Even', 'though', 'local', 'residents', 'benefits', 'from', 'an', 'increasing', 'number', 'of', 'jobs', 'which', 'are', 'provided', 'by', 'those', 'factories', ',', 'they', 'can', 'not', 'feel', 'happiness', 'from', 'high', '-', 'paying', 'job', 'yet', 'because', 'most', 'of', 'them', 'suffer', 'from', 'cancer', 'or', 'other', 'diseases', '.', '\\n', 'In', 'conclusion', ',', 'it', 'is', 'far', 'better', 'to', 'protect', 'our', 'living', 'environment', 'rather', 'than', 'focus', 'on', 'job', 'or', 'work', 'since', 'the', 'goal', 'people', 'is', 'for', 'good', 'livers', '.']\n"
          ],
          "name": "stdout"
        }
      ]
    },
    {
      "metadata": {
        "id": "8ByBPwvPRDoy",
        "colab_type": "code",
        "colab": {}
      },
      "cell_type": "code",
      "source": [
        "# Tokenization of each essay  & store into the token_list\n",
        "token_list = [token.text for e in essay_list for token in e]\n",
        "\n",
        "#print(len(token_list))\n",
        "#print(token_list)\n"
      ],
      "execution_count": 0,
      "outputs": []
    },
    {
      "metadata": {
        "id": "aqodsHEkHiOU",
        "colab_type": "code",
        "colab": {}
      },
      "cell_type": "code",
      "source": [
        ""
      ],
      "execution_count": 0,
      "outputs": []
    }
  ]
}